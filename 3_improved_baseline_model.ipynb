{
 "cells": [
  {
   "cell_type": "markdown",
   "metadata": {},
   "source": [
    "<h1 style=\"color:orange;font-size:40px;font-weight:bold\">Improve of the baseline model</h1>"
   ]
  },
  {
   "cell_type": "markdown",
   "metadata": {},
   "source": [
    "<p style=\"color:orange;font-size:14;font-style:italic\">After choosing Gradient Boosting as our baseline model, we can improve it playing with some parameters to try to make it work better.</p>"
   ]
  },
  {
   "cell_type": "markdown",
   "metadata": {},
   "source": [
    "<p style=\"color:orange;font-size:20;font-weight:bold\">Imports of libraries</p>"
   ]
  },
  {
   "cell_type": "code",
   "execution_count": 2,
   "metadata": {},
   "outputs": [],
   "source": [
    "import preprocessing\n",
    "from sklearn.feature_extraction.text import TfidfVectorizer\n",
    "from sklearn.metrics import classification_report\n",
    "from sklearn.ensemble import GradientBoostingClassifier\n",
    "from imblearn.over_sampling import SMOTE\n",
    "from imblearn.under_sampling import RandomUnderSampler"
   ]
  },
  {
   "cell_type": "markdown",
   "metadata": {},
   "source": [
    "<p style=\"color:orange;font-size:20;font-weight:bold\">Data Loading : Feature and Target definitions</p>"
   ]
  },
  {
   "cell_type": "code",
   "execution_count": 3,
   "metadata": {},
   "outputs": [],
   "source": [
    "filepath = \"data/lyrics-data.csv\" # Path to the data in the CSV file\n",
    "data = preprocessing.load_preprocessed_data(filepath, [\"drake\", \"kanye west\", \"50 cent\", \"taylor swift\", \"celine dion\", \"rihanna\"]) # Load the data with the preprocessing pipeline"
   ]
  },
  {
   "cell_type": "code",
   "execution_count": 4,
   "metadata": {},
   "outputs": [],
   "source": [
    "X = data[\"Lyric\"] # Feature\n",
    "y = data[\"Artist\"] # Target\n",
    "tfidf = TfidfVectorizer() #TF-IDF vectorizer\n",
    "X_vectorized = tfidf.fit_transform(X) # TF-IDF vectorization to the text data \n",
    "class_labels = ['50 cent', 'celine dion', 'drake', 'kanye west', 'rihanna', 'taylor swift'] # Define labels"
   ]
  },
  {
   "cell_type": "markdown",
   "metadata": {},
   "source": [
    "<p style=\"color:orange;font-size:28px;font-weight:bold\">Oversampling</p>"
   ]
  },
  {
   "cell_type": "markdown",
   "metadata": {},
   "source": [
    "<p style=\"color:orange;font-size:20;font-weight:bold\">SMOTE is a machine learning technique combatting class imbalance. It creates synthetic samples for the minority class, reducing bias and improving model performance.</p>"
   ]
  },
  {
   "cell_type": "code",
   "execution_count": 5,
   "metadata": {},
   "outputs": [],
   "source": [
    "smote = SMOTE(random_state=42) # SMOTE instance\n",
    "X_oversampled, y_oversampled = smote.fit_resample(X_vectorized, y) # Apply SMOTE oversampling to the training set\n",
    "\n",
    "model_over = preprocessing.Model(X_oversampled, y_oversampled, GradientBoostingClassifier()) # Instantiate the Model class \n",
    "model_over.fit() # Fit the model\n",
    "y_pred = model_over.predict() # Make predictions\n",
    "model_over.report(model_over.y_test, y_pred, class_labels) # Generate classification report"
   ]
  },
  {
   "cell_type": "markdown",
   "metadata": {},
   "source": [
    "<p style=\"color:orange;font-size:20;font-weight:bold\">Here the Oversampling was an obvious solution of our problem. Indeed, if we take the example of Rihanna, her discography was almost twice smaller than 50 Cent one. Counterbalancing by oversampling her songs is a good idea to make them equal when facing the model during the training.</p>"
   ]
  },
  {
   "cell_type": "markdown",
   "metadata": {},
   "source": [
    "<p style=\"color:orange;font-size:28px;font-weight:bold\">Undersampling</p>"
   ]
  },
  {
   "cell_type": "markdown",
   "metadata": {},
   "source": [
    "<p style=\"color:orange;font-size:20;font-weight:bold\">RandomUnderSampler is a machine learning technique combatting class imbalance. It removes portions of the majority class, reducing bias and improving model performance.</p>"
   ]
  },
  {
   "cell_type": "code",
   "execution_count": 4,
   "metadata": {},
   "outputs": [
    {
     "name": "stdout",
     "output_type": "stream",
     "text": [
      "              precision    recall  f1-score   support\n",
      "\n",
      "     50 cent       1.00      0.86      0.93        36\n",
      " celine dion       0.75      0.75      0.75        36\n",
      "       drake       0.78      0.86      0.82        37\n",
      "  kanye west       0.93      0.68      0.78        37\n",
      "     rihanna       0.65      0.76      0.70        37\n",
      "taylor swift       0.64      0.73      0.68        37\n",
      "\n",
      "    accuracy                           0.77       220\n",
      "   macro avg       0.79      0.77      0.78       220\n",
      "weighted avg       0.79      0.77      0.78       220\n",
      "\n"
     ]
    },
    {
     "data": {
      "application/vnd.plotly.v1+json": {
       "config": {
        "plotlyServerURL": "https://plot.ly"
       },
       "data": [
        {
         "coloraxis": "coloraxis",
         "hovertemplate": "Predicted: %{x}<br>True Label: %{y}<br>color: %{z}<extra></extra>",
         "name": "0",
         "texttemplate": "%{z}",
         "type": "heatmap",
         "x": [
          "50 cent",
          "celine dion",
          "drake",
          "kanye west",
          "rihanna",
          "taylor swift"
         ],
         "xaxis": "x",
         "y": [
          "50 cent",
          "celine dion",
          "drake",
          "kanye west",
          "rihanna",
          "taylor swift"
         ],
         "yaxis": "y",
         "z": [
          [
           31,
           1,
           3,
           0,
           1,
           0
          ],
          [
           0,
           27,
           0,
           0,
           3,
           6
          ],
          [
           0,
           1,
           32,
           1,
           2,
           1
          ],
          [
           0,
           2,
           4,
           25,
           3,
           3
          ],
          [
           0,
           2,
           1,
           1,
           28,
           5
          ],
          [
           0,
           3,
           1,
           0,
           6,
           27
          ]
         ]
        }
       ],
       "layout": {
        "coloraxis": {
         "colorscale": [
          [
           0,
           "rgb(247,251,255)"
          ],
          [
           0.125,
           "rgb(222,235,247)"
          ],
          [
           0.25,
           "rgb(198,219,239)"
          ],
          [
           0.375,
           "rgb(158,202,225)"
          ],
          [
           0.5,
           "rgb(107,174,214)"
          ],
          [
           0.625,
           "rgb(66,146,198)"
          ],
          [
           0.75,
           "rgb(33,113,181)"
          ],
          [
           0.875,
           "rgb(8,81,156)"
          ],
          [
           1,
           "rgb(8,48,107)"
          ]
         ]
        },
        "height": 800,
        "template": {
         "data": {
          "bar": [
           {
            "error_x": {
             "color": "#2a3f5f"
            },
            "error_y": {
             "color": "#2a3f5f"
            },
            "marker": {
             "line": {
              "color": "#E5ECF6",
              "width": 0.5
             },
             "pattern": {
              "fillmode": "overlay",
              "size": 10,
              "solidity": 0.2
             }
            },
            "type": "bar"
           }
          ],
          "barpolar": [
           {
            "marker": {
             "line": {
              "color": "#E5ECF6",
              "width": 0.5
             },
             "pattern": {
              "fillmode": "overlay",
              "size": 10,
              "solidity": 0.2
             }
            },
            "type": "barpolar"
           }
          ],
          "carpet": [
           {
            "aaxis": {
             "endlinecolor": "#2a3f5f",
             "gridcolor": "white",
             "linecolor": "white",
             "minorgridcolor": "white",
             "startlinecolor": "#2a3f5f"
            },
            "baxis": {
             "endlinecolor": "#2a3f5f",
             "gridcolor": "white",
             "linecolor": "white",
             "minorgridcolor": "white",
             "startlinecolor": "#2a3f5f"
            },
            "type": "carpet"
           }
          ],
          "choropleth": [
           {
            "colorbar": {
             "outlinewidth": 0,
             "ticks": ""
            },
            "type": "choropleth"
           }
          ],
          "contour": [
           {
            "colorbar": {
             "outlinewidth": 0,
             "ticks": ""
            },
            "colorscale": [
             [
              0,
              "#0d0887"
             ],
             [
              0.1111111111111111,
              "#46039f"
             ],
             [
              0.2222222222222222,
              "#7201a8"
             ],
             [
              0.3333333333333333,
              "#9c179e"
             ],
             [
              0.4444444444444444,
              "#bd3786"
             ],
             [
              0.5555555555555556,
              "#d8576b"
             ],
             [
              0.6666666666666666,
              "#ed7953"
             ],
             [
              0.7777777777777778,
              "#fb9f3a"
             ],
             [
              0.8888888888888888,
              "#fdca26"
             ],
             [
              1,
              "#f0f921"
             ]
            ],
            "type": "contour"
           }
          ],
          "contourcarpet": [
           {
            "colorbar": {
             "outlinewidth": 0,
             "ticks": ""
            },
            "type": "contourcarpet"
           }
          ],
          "heatmap": [
           {
            "colorbar": {
             "outlinewidth": 0,
             "ticks": ""
            },
            "colorscale": [
             [
              0,
              "#0d0887"
             ],
             [
              0.1111111111111111,
              "#46039f"
             ],
             [
              0.2222222222222222,
              "#7201a8"
             ],
             [
              0.3333333333333333,
              "#9c179e"
             ],
             [
              0.4444444444444444,
              "#bd3786"
             ],
             [
              0.5555555555555556,
              "#d8576b"
             ],
             [
              0.6666666666666666,
              "#ed7953"
             ],
             [
              0.7777777777777778,
              "#fb9f3a"
             ],
             [
              0.8888888888888888,
              "#fdca26"
             ],
             [
              1,
              "#f0f921"
             ]
            ],
            "type": "heatmap"
           }
          ],
          "heatmapgl": [
           {
            "colorbar": {
             "outlinewidth": 0,
             "ticks": ""
            },
            "colorscale": [
             [
              0,
              "#0d0887"
             ],
             [
              0.1111111111111111,
              "#46039f"
             ],
             [
              0.2222222222222222,
              "#7201a8"
             ],
             [
              0.3333333333333333,
              "#9c179e"
             ],
             [
              0.4444444444444444,
              "#bd3786"
             ],
             [
              0.5555555555555556,
              "#d8576b"
             ],
             [
              0.6666666666666666,
              "#ed7953"
             ],
             [
              0.7777777777777778,
              "#fb9f3a"
             ],
             [
              0.8888888888888888,
              "#fdca26"
             ],
             [
              1,
              "#f0f921"
             ]
            ],
            "type": "heatmapgl"
           }
          ],
          "histogram": [
           {
            "marker": {
             "pattern": {
              "fillmode": "overlay",
              "size": 10,
              "solidity": 0.2
             }
            },
            "type": "histogram"
           }
          ],
          "histogram2d": [
           {
            "colorbar": {
             "outlinewidth": 0,
             "ticks": ""
            },
            "colorscale": [
             [
              0,
              "#0d0887"
             ],
             [
              0.1111111111111111,
              "#46039f"
             ],
             [
              0.2222222222222222,
              "#7201a8"
             ],
             [
              0.3333333333333333,
              "#9c179e"
             ],
             [
              0.4444444444444444,
              "#bd3786"
             ],
             [
              0.5555555555555556,
              "#d8576b"
             ],
             [
              0.6666666666666666,
              "#ed7953"
             ],
             [
              0.7777777777777778,
              "#fb9f3a"
             ],
             [
              0.8888888888888888,
              "#fdca26"
             ],
             [
              1,
              "#f0f921"
             ]
            ],
            "type": "histogram2d"
           }
          ],
          "histogram2dcontour": [
           {
            "colorbar": {
             "outlinewidth": 0,
             "ticks": ""
            },
            "colorscale": [
             [
              0,
              "#0d0887"
             ],
             [
              0.1111111111111111,
              "#46039f"
             ],
             [
              0.2222222222222222,
              "#7201a8"
             ],
             [
              0.3333333333333333,
              "#9c179e"
             ],
             [
              0.4444444444444444,
              "#bd3786"
             ],
             [
              0.5555555555555556,
              "#d8576b"
             ],
             [
              0.6666666666666666,
              "#ed7953"
             ],
             [
              0.7777777777777778,
              "#fb9f3a"
             ],
             [
              0.8888888888888888,
              "#fdca26"
             ],
             [
              1,
              "#f0f921"
             ]
            ],
            "type": "histogram2dcontour"
           }
          ],
          "mesh3d": [
           {
            "colorbar": {
             "outlinewidth": 0,
             "ticks": ""
            },
            "type": "mesh3d"
           }
          ],
          "parcoords": [
           {
            "line": {
             "colorbar": {
              "outlinewidth": 0,
              "ticks": ""
             }
            },
            "type": "parcoords"
           }
          ],
          "pie": [
           {
            "automargin": true,
            "type": "pie"
           }
          ],
          "scatter": [
           {
            "fillpattern": {
             "fillmode": "overlay",
             "size": 10,
             "solidity": 0.2
            },
            "type": "scatter"
           }
          ],
          "scatter3d": [
           {
            "line": {
             "colorbar": {
              "outlinewidth": 0,
              "ticks": ""
             }
            },
            "marker": {
             "colorbar": {
              "outlinewidth": 0,
              "ticks": ""
             }
            },
            "type": "scatter3d"
           }
          ],
          "scattercarpet": [
           {
            "marker": {
             "colorbar": {
              "outlinewidth": 0,
              "ticks": ""
             }
            },
            "type": "scattercarpet"
           }
          ],
          "scattergeo": [
           {
            "marker": {
             "colorbar": {
              "outlinewidth": 0,
              "ticks": ""
             }
            },
            "type": "scattergeo"
           }
          ],
          "scattergl": [
           {
            "marker": {
             "colorbar": {
              "outlinewidth": 0,
              "ticks": ""
             }
            },
            "type": "scattergl"
           }
          ],
          "scattermapbox": [
           {
            "marker": {
             "colorbar": {
              "outlinewidth": 0,
              "ticks": ""
             }
            },
            "type": "scattermapbox"
           }
          ],
          "scatterpolar": [
           {
            "marker": {
             "colorbar": {
              "outlinewidth": 0,
              "ticks": ""
             }
            },
            "type": "scatterpolar"
           }
          ],
          "scatterpolargl": [
           {
            "marker": {
             "colorbar": {
              "outlinewidth": 0,
              "ticks": ""
             }
            },
            "type": "scatterpolargl"
           }
          ],
          "scatterternary": [
           {
            "marker": {
             "colorbar": {
              "outlinewidth": 0,
              "ticks": ""
             }
            },
            "type": "scatterternary"
           }
          ],
          "surface": [
           {
            "colorbar": {
             "outlinewidth": 0,
             "ticks": ""
            },
            "colorscale": [
             [
              0,
              "#0d0887"
             ],
             [
              0.1111111111111111,
              "#46039f"
             ],
             [
              0.2222222222222222,
              "#7201a8"
             ],
             [
              0.3333333333333333,
              "#9c179e"
             ],
             [
              0.4444444444444444,
              "#bd3786"
             ],
             [
              0.5555555555555556,
              "#d8576b"
             ],
             [
              0.6666666666666666,
              "#ed7953"
             ],
             [
              0.7777777777777778,
              "#fb9f3a"
             ],
             [
              0.8888888888888888,
              "#fdca26"
             ],
             [
              1,
              "#f0f921"
             ]
            ],
            "type": "surface"
           }
          ],
          "table": [
           {
            "cells": {
             "fill": {
              "color": "#EBF0F8"
             },
             "line": {
              "color": "white"
             }
            },
            "header": {
             "fill": {
              "color": "#C8D4E3"
             },
             "line": {
              "color": "white"
             }
            },
            "type": "table"
           }
          ]
         },
         "layout": {
          "annotationdefaults": {
           "arrowcolor": "#2a3f5f",
           "arrowhead": 0,
           "arrowwidth": 1
          },
          "autotypenumbers": "strict",
          "coloraxis": {
           "colorbar": {
            "outlinewidth": 0,
            "ticks": ""
           }
          },
          "colorscale": {
           "diverging": [
            [
             0,
             "#8e0152"
            ],
            [
             0.1,
             "#c51b7d"
            ],
            [
             0.2,
             "#de77ae"
            ],
            [
             0.3,
             "#f1b6da"
            ],
            [
             0.4,
             "#fde0ef"
            ],
            [
             0.5,
             "#f7f7f7"
            ],
            [
             0.6,
             "#e6f5d0"
            ],
            [
             0.7,
             "#b8e186"
            ],
            [
             0.8,
             "#7fbc41"
            ],
            [
             0.9,
             "#4d9221"
            ],
            [
             1,
             "#276419"
            ]
           ],
           "sequential": [
            [
             0,
             "#0d0887"
            ],
            [
             0.1111111111111111,
             "#46039f"
            ],
            [
             0.2222222222222222,
             "#7201a8"
            ],
            [
             0.3333333333333333,
             "#9c179e"
            ],
            [
             0.4444444444444444,
             "#bd3786"
            ],
            [
             0.5555555555555556,
             "#d8576b"
            ],
            [
             0.6666666666666666,
             "#ed7953"
            ],
            [
             0.7777777777777778,
             "#fb9f3a"
            ],
            [
             0.8888888888888888,
             "#fdca26"
            ],
            [
             1,
             "#f0f921"
            ]
           ],
           "sequentialminus": [
            [
             0,
             "#0d0887"
            ],
            [
             0.1111111111111111,
             "#46039f"
            ],
            [
             0.2222222222222222,
             "#7201a8"
            ],
            [
             0.3333333333333333,
             "#9c179e"
            ],
            [
             0.4444444444444444,
             "#bd3786"
            ],
            [
             0.5555555555555556,
             "#d8576b"
            ],
            [
             0.6666666666666666,
             "#ed7953"
            ],
            [
             0.7777777777777778,
             "#fb9f3a"
            ],
            [
             0.8888888888888888,
             "#fdca26"
            ],
            [
             1,
             "#f0f921"
            ]
           ]
          },
          "colorway": [
           "#636efa",
           "#EF553B",
           "#00cc96",
           "#ab63fa",
           "#FFA15A",
           "#19d3f3",
           "#FF6692",
           "#B6E880",
           "#FF97FF",
           "#FECB52"
          ],
          "font": {
           "color": "#2a3f5f"
          },
          "geo": {
           "bgcolor": "white",
           "lakecolor": "white",
           "landcolor": "#E5ECF6",
           "showlakes": true,
           "showland": true,
           "subunitcolor": "white"
          },
          "hoverlabel": {
           "align": "left"
          },
          "hovermode": "closest",
          "mapbox": {
           "style": "light"
          },
          "paper_bgcolor": "white",
          "plot_bgcolor": "#E5ECF6",
          "polar": {
           "angularaxis": {
            "gridcolor": "white",
            "linecolor": "white",
            "ticks": ""
           },
           "bgcolor": "#E5ECF6",
           "radialaxis": {
            "gridcolor": "white",
            "linecolor": "white",
            "ticks": ""
           }
          },
          "scene": {
           "xaxis": {
            "backgroundcolor": "#E5ECF6",
            "gridcolor": "white",
            "gridwidth": 2,
            "linecolor": "white",
            "showbackground": true,
            "ticks": "",
            "zerolinecolor": "white"
           },
           "yaxis": {
            "backgroundcolor": "#E5ECF6",
            "gridcolor": "white",
            "gridwidth": 2,
            "linecolor": "white",
            "showbackground": true,
            "ticks": "",
            "zerolinecolor": "white"
           },
           "zaxis": {
            "backgroundcolor": "#E5ECF6",
            "gridcolor": "white",
            "gridwidth": 2,
            "linecolor": "white",
            "showbackground": true,
            "ticks": "",
            "zerolinecolor": "white"
           }
          },
          "shapedefaults": {
           "line": {
            "color": "#2a3f5f"
           }
          },
          "ternary": {
           "aaxis": {
            "gridcolor": "white",
            "linecolor": "white",
            "ticks": ""
           },
           "baxis": {
            "gridcolor": "white",
            "linecolor": "white",
            "ticks": ""
           },
           "bgcolor": "#E5ECF6",
           "caxis": {
            "gridcolor": "white",
            "linecolor": "white",
            "ticks": ""
           }
          },
          "title": {
           "x": 0.05
          },
          "xaxis": {
           "automargin": true,
           "gridcolor": "white",
           "linecolor": "white",
           "ticks": "",
           "title": {
            "standoff": 15
           },
           "zerolinecolor": "white",
           "zerolinewidth": 2
          },
          "yaxis": {
           "automargin": true,
           "gridcolor": "white",
           "linecolor": "white",
           "ticks": "",
           "title": {
            "standoff": 15
           },
           "zerolinecolor": "white",
           "zerolinewidth": 2
          }
         }
        },
        "title": {
         "text": "Confusion Matrix"
        },
        "width": 1000,
        "xaxis": {
         "anchor": "y",
         "constrain": "domain",
         "domain": [
          0,
          1
         ],
         "scaleanchor": "y",
         "title": {
          "text": "Predicted"
         }
        },
        "yaxis": {
         "anchor": "x",
         "autorange": "reversed",
         "constrain": "domain",
         "domain": [
          0,
          1
         ],
         "title": {
          "text": "True Label"
         }
        }
       }
      }
     },
     "metadata": {},
     "output_type": "display_data"
    }
   ],
   "source": [
    "undersampler = RandomUnderSampler(sampling_strategy='auto', random_state=42) # RandomUnderSampler instance\n",
    "X_undersampled, y_undersampled = undersampler.fit_resample(X_vectorized, y) # Apply random undersampling to the training set\n",
    "\n",
    "model_under = preprocessing.Model(X_undersampled, y_undersampled, GradientBoostingClassifier()) # Instantiate the Model class \n",
    "model_under.fit() # Fit the model\n",
    "y_pred = model_under.predict() # Make predictions\n",
    "model_under.report(model_under.y_test, y_pred, class_labels) # Generate classification report"
   ]
  },
  {
   "cell_type": "markdown",
   "metadata": {},
   "source": [
    "<p style=\"color:orange;font-size:20;font-weight:bold\">The score being better with oversampling we are going to keep this technique to balance our classes.</p>"
   ]
  },
  {
   "cell_type": "markdown",
   "metadata": {},
   "source": [
    "# --------------------------------------------------------------------------------------------\n",
    "# --------------------------------------------------------------------------------------------"
   ]
  },
  {
   "cell_type": "markdown",
   "metadata": {},
   "source": [
    "<p style=\"color:orange;font-size:28px;font-weight:bold\">Hyperparameters Tuning</p>"
   ]
  },
  {
   "cell_type": "code",
   "execution_count": 6,
   "metadata": {},
   "outputs": [
    {
     "name": "stdout",
     "output_type": "stream",
     "text": [
      "Learning Rate: 0.2, N Estimators: 50\n",
      "              precision    recall  f1-score   support\n",
      "\n",
      "     50 cent       0.94      0.90      0.92        70\n",
      " celine dion       0.74      0.79      0.76        70\n",
      "       drake       0.94      0.90      0.92        70\n",
      "  kanye west       0.88      0.75      0.81        71\n",
      "     rihanna       0.74      0.71      0.72        70\n",
      "taylor swift       0.65      0.79      0.71        70\n",
      "\n",
      "    accuracy                           0.81       421\n",
      "   macro avg       0.81      0.81      0.81       421\n",
      "weighted avg       0.82      0.81      0.81       421\n",
      "\n",
      "Learning Rate: 0.2, N Estimators: 100\n",
      "              precision    recall  f1-score   support\n",
      "\n",
      "     50 cent       0.95      0.90      0.93        70\n",
      " celine dion       0.78      0.80      0.79        70\n",
      "       drake       0.93      0.90      0.91        70\n",
      "  kanye west       0.95      0.76      0.84        71\n",
      "     rihanna       0.75      0.77      0.76        70\n",
      "taylor swift       0.69      0.84      0.76        70\n",
      "\n",
      "    accuracy                           0.83       421\n",
      "   macro avg       0.84      0.83      0.83       421\n",
      "weighted avg       0.84      0.83      0.83       421\n",
      "\n",
      "Learning Rate: 0.2, N Estimators: 150\n",
      "              precision    recall  f1-score   support\n",
      "\n",
      "     50 cent       0.95      0.90      0.93        70\n",
      " celine dion       0.76      0.79      0.77        70\n",
      "       drake       0.93      0.89      0.91        70\n",
      "  kanye west       0.95      0.73      0.83        71\n",
      "     rihanna       0.73      0.76      0.74        70\n",
      "taylor swift       0.68      0.86      0.76        70\n",
      "\n",
      "    accuracy                           0.82       421\n",
      "   macro avg       0.83      0.82      0.82       421\n",
      "weighted avg       0.83      0.82      0.82       421\n",
      "\n",
      "Learning Rate: 0.3, N Estimators: 50\n",
      "              precision    recall  f1-score   support\n",
      "\n",
      "     50 cent       0.93      0.90      0.91        70\n",
      " celine dion       0.72      0.80      0.76        70\n",
      "       drake       0.91      0.89      0.90        70\n",
      "  kanye west       0.93      0.73      0.82        71\n",
      "     rihanna       0.72      0.74      0.73        70\n",
      "taylor swift       0.68      0.77      0.72        70\n",
      "\n",
      "    accuracy                           0.81       421\n",
      "   macro avg       0.82      0.81      0.81       421\n",
      "weighted avg       0.82      0.81      0.81       421\n",
      "\n",
      "Learning Rate: 0.3, N Estimators: 100\n",
      "              precision    recall  f1-score   support\n",
      "\n",
      "     50 cent       0.93      0.89      0.91        70\n",
      " celine dion       0.75      0.81      0.78        70\n",
      "       drake       0.90      0.89      0.89        70\n",
      "  kanye west       0.95      0.73      0.83        71\n",
      "     rihanna       0.70      0.74      0.72        70\n",
      "taylor swift       0.72      0.83      0.77        70\n",
      "\n",
      "    accuracy                           0.81       421\n",
      "   macro avg       0.82      0.81      0.82       421\n",
      "weighted avg       0.82      0.81      0.82       421\n",
      "\n",
      "Learning Rate: 0.3, N Estimators: 150\n",
      "              precision    recall  f1-score   support\n",
      "\n",
      "     50 cent       0.94      0.90      0.92        70\n",
      " celine dion       0.77      0.81      0.79        70\n",
      "       drake       0.93      0.89      0.91        70\n",
      "  kanye west       0.94      0.72      0.82        71\n",
      "     rihanna       0.67      0.77      0.72        70\n",
      "taylor swift       0.76      0.84      0.80        70\n",
      "\n",
      "    accuracy                           0.82       421\n",
      "   macro avg       0.83      0.82      0.82       421\n",
      "weighted avg       0.83      0.82      0.82       421\n",
      "\n"
     ]
    }
   ],
   "source": [
    "# Define the parameters you want to search over\n",
    "learning_rates = [0.2, 0.3]\n",
    "n_estimators_values = [50, 100, 150]\n",
    "\n",
    "# List to store results\n",
    "results = []\n",
    "\n",
    "# Loop over parameter combinations\n",
    "for learning_rate in learning_rates:\n",
    "    for n_estimators in n_estimators_values:\n",
    "\n",
    "        # Instantiate the Model class with different parameters\n",
    "        model_over = preprocessing.Model(X_oversampled, y_oversampled, GradientBoostingClassifier(learning_rate=learning_rate, n_estimators=n_estimators))\n",
    "\n",
    "        # Fit the model\n",
    "        model_over.fit()\n",
    "\n",
    "        # Make predictions\n",
    "        y_pred = model_over.predict()\n",
    "\n",
    "        # Generate classification report\n",
    "        report = classification_report(model_over.y_test, y_pred, target_names=class_labels)\n",
    "\n",
    "        # Append results\n",
    "        results.append({\n",
    "            'learning_rate': learning_rate,\n",
    "            'n_estimators': n_estimators,\n",
    "            'classification_report': report\n",
    "        })\n",
    "\n",
    "# Print or analyze the results as needed\n",
    "for result in results:\n",
    "    print(f\"Learning Rate: {result['learning_rate']}, N Estimators: {result['n_estimators']}\")\n",
    "    print(result['classification_report'])\n"
   ]
  },
  {
   "cell_type": "markdown",
   "metadata": {},
   "source": [
    "<p style=\"color:orange;font-size:20;font-weight:bold\">We will save the model with a leaarning-rate of 0.2 and n_estimators of 100 that has the best f1 score. 83% is such a good accuracy score but I think that we could have get better result by trying other values for the parameters and by tuning other ones. Sadly, it takes a lot of time for the model to build itself so we will stop here !</p>"
   ]
  }
 ],
 "metadata": {
  "kernelspec": {
   "display_name": "Python 3",
   "language": "python",
   "name": "python3"
  },
  "language_info": {
   "codemirror_mode": {
    "name": "ipython",
    "version": 3
   },
   "file_extension": ".py",
   "mimetype": "text/x-python",
   "name": "python",
   "nbconvert_exporter": "python",
   "pygments_lexer": "ipython3",
   "version": "3.11.0"
  }
 },
 "nbformat": 4,
 "nbformat_minor": 2
}
